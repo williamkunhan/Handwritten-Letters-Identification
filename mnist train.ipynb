{
 "cells": [
  {
   "cell_type": "markdown",
   "metadata": {},
   "source": [
    "# MNIST Project "
   ]
  },
  {
   "cell_type": "markdown",
   "metadata": {},
   "source": [
    "## Data importing and image loading"
   ]
  },
  {
   "cell_type": "code",
   "execution_count": 87,
   "metadata": {},
   "outputs": [],
   "source": [
    "import pandas as pd\n",
    "import cv2\n",
    "import numpy as np\n",
    "from tensorflow import keras\n",
    "from tensorflow.keras import layers\n",
    "from sklearn.model_selection import train_test_split"
   ]
  },
  {
   "cell_type": "code",
   "execution_count": 88,
   "metadata": {},
   "outputs": [
    {
     "data": {
      "text/html": [
       "<div>\n",
       "<style scoped>\n",
       "    .dataframe tbody tr th:only-of-type {\n",
       "        vertical-align: middle;\n",
       "    }\n",
       "\n",
       "    .dataframe tbody tr th {\n",
       "        vertical-align: top;\n",
       "    }\n",
       "\n",
       "    .dataframe thead th {\n",
       "        text-align: right;\n",
       "    }\n",
       "</style>\n",
       "<table border=\"1\" class=\"dataframe\">\n",
       "  <thead>\n",
       "    <tr style=\"text-align: right;\">\n",
       "      <th></th>\n",
       "      <th>image</th>\n",
       "      <th>label</th>\n",
       "    </tr>\n",
       "  </thead>\n",
       "  <tbody>\n",
       "    <tr>\n",
       "      <td>0</td>\n",
       "      <td>Img/img001-001.png</td>\n",
       "      <td>0</td>\n",
       "    </tr>\n",
       "    <tr>\n",
       "      <td>1</td>\n",
       "      <td>Img/img001-002.png</td>\n",
       "      <td>0</td>\n",
       "    </tr>\n",
       "    <tr>\n",
       "      <td>2</td>\n",
       "      <td>Img/img001-003.png</td>\n",
       "      <td>0</td>\n",
       "    </tr>\n",
       "    <tr>\n",
       "      <td>3</td>\n",
       "      <td>Img/img001-004.png</td>\n",
       "      <td>0</td>\n",
       "    </tr>\n",
       "    <tr>\n",
       "      <td>4</td>\n",
       "      <td>Img/img001-005.png</td>\n",
       "      <td>0</td>\n",
       "    </tr>\n",
       "    <tr>\n",
       "      <td>...</td>\n",
       "      <td>...</td>\n",
       "      <td>...</td>\n",
       "    </tr>\n",
       "    <tr>\n",
       "      <td>3405</td>\n",
       "      <td>Img/img062-051.png</td>\n",
       "      <td>z</td>\n",
       "    </tr>\n",
       "    <tr>\n",
       "      <td>3406</td>\n",
       "      <td>Img/img062-052.png</td>\n",
       "      <td>z</td>\n",
       "    </tr>\n",
       "    <tr>\n",
       "      <td>3407</td>\n",
       "      <td>Img/img062-053.png</td>\n",
       "      <td>z</td>\n",
       "    </tr>\n",
       "    <tr>\n",
       "      <td>3408</td>\n",
       "      <td>Img/img062-054.png</td>\n",
       "      <td>z</td>\n",
       "    </tr>\n",
       "    <tr>\n",
       "      <td>3409</td>\n",
       "      <td>Img/img062-055.png</td>\n",
       "      <td>z</td>\n",
       "    </tr>\n",
       "  </tbody>\n",
       "</table>\n",
       "<p>3410 rows × 2 columns</p>\n",
       "</div>"
      ],
      "text/plain": [
       "                   image label\n",
       "0     Img/img001-001.png     0\n",
       "1     Img/img001-002.png     0\n",
       "2     Img/img001-003.png     0\n",
       "3     Img/img001-004.png     0\n",
       "4     Img/img001-005.png     0\n",
       "...                  ...   ...\n",
       "3405  Img/img062-051.png     z\n",
       "3406  Img/img062-052.png     z\n",
       "3407  Img/img062-053.png     z\n",
       "3408  Img/img062-054.png     z\n",
       "3409  Img/img062-055.png     z\n",
       "\n",
       "[3410 rows x 2 columns]"
      ]
     },
     "execution_count": 88,
     "metadata": {},
     "output_type": "execute_result"
    }
   ],
   "source": [
    "data = pd.read_csv(\"english.csv\")\n",
    "data"
   ]
  },
  {
   "cell_type": "code",
   "execution_count": 89,
   "metadata": {},
   "outputs": [],
   "source": [
    "key_dict = {\n",
    "    0:0,1:1,2:2,3:3,4:4,5:5,6:6,7:7,8:8,9:9,\n",
    "    10:\"a\",11:\"b\",12:\"c\",13:\"d\",14:\"e\",15:\"f\",16:\"g\",17:\"h\",18:\"i\",19:\"j\",\n",
    "    20:\"k\",21:\"l\",22:\"m\",23:\"n\",24:\"o\",25:\"p\",26:\"q\",27:\"r\",28:\"s\",29:\"t\",\n",
    "    30:\"u\",31:\"v\",32:\"w\",33:\"x\",34:\"y\",35:\"z\"\n",
    "}"
   ]
  },
  {
   "cell_type": "code",
   "execution_count": 90,
   "metadata": {},
   "outputs": [
    {
     "data": {
      "text/html": [
       "<div>\n",
       "<style scoped>\n",
       "    .dataframe tbody tr th:only-of-type {\n",
       "        vertical-align: middle;\n",
       "    }\n",
       "\n",
       "    .dataframe tbody tr th {\n",
       "        vertical-align: top;\n",
       "    }\n",
       "\n",
       "    .dataframe thead th {\n",
       "        text-align: right;\n",
       "    }\n",
       "</style>\n",
       "<table border=\"1\" class=\"dataframe\">\n",
       "  <thead>\n",
       "    <tr style=\"text-align: right;\">\n",
       "      <th></th>\n",
       "      <th>image</th>\n",
       "      <th>label</th>\n",
       "    </tr>\n",
       "  </thead>\n",
       "  <tbody>\n",
       "    <tr>\n",
       "      <td>0</td>\n",
       "      <td>Img/img001-001.png</td>\n",
       "      <td>0</td>\n",
       "    </tr>\n",
       "    <tr>\n",
       "      <td>1</td>\n",
       "      <td>Img/img001-002.png</td>\n",
       "      <td>0</td>\n",
       "    </tr>\n",
       "    <tr>\n",
       "      <td>2</td>\n",
       "      <td>Img/img001-003.png</td>\n",
       "      <td>0</td>\n",
       "    </tr>\n",
       "    <tr>\n",
       "      <td>3</td>\n",
       "      <td>Img/img001-004.png</td>\n",
       "      <td>0</td>\n",
       "    </tr>\n",
       "    <tr>\n",
       "      <td>4</td>\n",
       "      <td>Img/img001-005.png</td>\n",
       "      <td>0</td>\n",
       "    </tr>\n",
       "    <tr>\n",
       "      <td>...</td>\n",
       "      <td>...</td>\n",
       "      <td>...</td>\n",
       "    </tr>\n",
       "    <tr>\n",
       "      <td>3405</td>\n",
       "      <td>Img/img062-051.png</td>\n",
       "      <td>z</td>\n",
       "    </tr>\n",
       "    <tr>\n",
       "      <td>3406</td>\n",
       "      <td>Img/img062-052.png</td>\n",
       "      <td>z</td>\n",
       "    </tr>\n",
       "    <tr>\n",
       "      <td>3407</td>\n",
       "      <td>Img/img062-053.png</td>\n",
       "      <td>z</td>\n",
       "    </tr>\n",
       "    <tr>\n",
       "      <td>3408</td>\n",
       "      <td>Img/img062-054.png</td>\n",
       "      <td>z</td>\n",
       "    </tr>\n",
       "    <tr>\n",
       "      <td>3409</td>\n",
       "      <td>Img/img062-055.png</td>\n",
       "      <td>z</td>\n",
       "    </tr>\n",
       "  </tbody>\n",
       "</table>\n",
       "<p>3410 rows × 2 columns</p>\n",
       "</div>"
      ],
      "text/plain": [
       "                   image label\n",
       "0     Img/img001-001.png     0\n",
       "1     Img/img001-002.png     0\n",
       "2     Img/img001-003.png     0\n",
       "3     Img/img001-004.png     0\n",
       "4     Img/img001-005.png     0\n",
       "...                  ...   ...\n",
       "3405  Img/img062-051.png     z\n",
       "3406  Img/img062-052.png     z\n",
       "3407  Img/img062-053.png     z\n",
       "3408  Img/img062-054.png     z\n",
       "3409  Img/img062-055.png     z\n",
       "\n",
       "[3410 rows x 2 columns]"
      ]
     },
     "execution_count": 90,
     "metadata": {},
     "output_type": "execute_result"
    }
   ],
   "source": [
    "df = data\n",
    "df"
   ]
  },
  {
   "cell_type": "code",
   "execution_count": 122,
   "metadata": {},
   "outputs": [],
   "source": [
    "IMG_WIDTH=32\n",
    "IMG_HEIGHT=32\n",
    "images = []\n",
    "\n",
    "for path in df[\"image\"]:\n",
    "    image = cv2.imread(path, 0) \n",
    "    \n",
    "    image = cv2.resize(image, (IMG_HEIGHT, IMG_WIDTH),interpolation = cv2.INTER_AREA)\n",
    "    image = np.array(image)\n",
    "    image = image.astype('float32')\n",
    "    image /= 255 \n",
    "    images.append(image)\n"
   ]
  },
  {
   "cell_type": "code",
   "execution_count": 123,
   "metadata": {},
   "outputs": [
    {
     "data": {
      "text/plain": [
       "array([[1., 1., 1., ..., 1., 1., 1.],\n",
       "       [1., 1., 1., ..., 1., 1., 1.],\n",
       "       [1., 1., 1., ..., 1., 1., 1.],\n",
       "       ...,\n",
       "       [1., 1., 1., ..., 1., 1., 1.],\n",
       "       [1., 1., 1., ..., 1., 1., 1.],\n",
       "       [1., 1., 1., ..., 1., 1., 1.]], dtype=float32)"
      ]
     },
     "execution_count": 123,
     "metadata": {},
     "output_type": "execute_result"
    }
   ],
   "source": [
    "images[0]"
   ]
  },
  {
   "cell_type": "code",
   "execution_count": 124,
   "metadata": {},
   "outputs": [
    {
     "data": {
      "image/png": "[encoded data removed]",
      "text/plain": [
       "<Figure size 432x288 with 1 Axes>"
      ]
     },
     "metadata": {
      "needs_background": "light"
     },
     "output_type": "display_data"
    }
   ],
   "source": [
    "import matplotlib.pyplot as plt\n",
    "\n",
    "plt.imshow(images[2], cmap=\"gray\")\n",
    "plt.show()"
   ]
  },
  {
   "cell_type": "markdown",
   "metadata": {},
   "source": [
    "## First Tryout"
   ]
  },
  {
   "cell_type": "code",
   "execution_count": 125,
   "metadata": {},
   "outputs": [],
   "source": [
    "num_classes = 36\n",
    "input_shape = (32, 32, 1)\n",
    "batch_size = 32\n",
    "epochs = 32\n"
   ]
  },
  {
   "cell_type": "code",
   "execution_count": 129,
   "metadata": {},
   "outputs": [
    {
     "name": "stdout",
     "output_type": "stream",
     "text": [
      "x_train shape: (2557, 32, 32, 1)\n",
      "2557 train samples\n",
      "853 test samples\n"
     ]
    }
   ],
   "source": [
    "from sklearn.preprocessing import LabelEncoder\n",
    "\n",
    "images_first = images[:]\n",
    "\n",
    "images_first = np.expand_dims(images_first, -1)\n",
    "x_train, x_test, y_train, y_test = train_test_split(images_first, [i.upper() for i in df['label']])\n",
    "print(\"x_train shape:\", x_train.shape)\n",
    "print(len(x_train), \"train samples\")\n",
    "print(len(x_test), \"test samples\")\n",
    "\n",
    "train_trans = LabelEncoder().fit_transform(y_train)\n",
    "test_trans = LabelEncoder().fit_transform(y_test)\n",
    "\n",
    "y_train = keras.utils.to_categorical(train_trans, num_classes)\n",
    "y_test = keras.utils.to_categorical(test_trans, num_classes)"
   ]
  },
  {
   "cell_type": "code",
   "execution_count": 130,
   "metadata": {},
   "outputs": [
    {
     "name": "stdout",
     "output_type": "stream",
     "text": [
      "WARNING:tensorflow:Please add `keras.layers.InputLayer` instead of `keras.Input` to Sequential model. `keras.Input` is intended to be used by Functional model.\n",
      "Model: \"sequential_9\"\n",
      "_________________________________________________________________\n",
      "Layer (type)                 Output Shape              Param #   \n",
      "=================================================================\n",
      "conv2d_31 (Conv2D)           (None, 30, 30, 32)        320       \n",
      "_________________________________________________________________\n",
      "max_pooling2d_16 (MaxPooling (None, 15, 15, 32)        0         \n",
      "_________________________________________________________________\n",
      "conv2d_32 (Conv2D)           (None, 13, 13, 64)        18496     \n",
      "_________________________________________________________________\n",
      "max_pooling2d_17 (MaxPooling (None, 6, 6, 64)          0         \n",
      "_________________________________________________________________\n",
      "flatten_8 (Flatten)          (None, 2304)              0         \n",
      "_________________________________________________________________\n",
      "dropout_23 (Dropout)         (None, 2304)              0         \n",
      "_________________________________________________________________\n",
      "dense_13 (Dense)             (None, 36)                82980     \n",
      "=================================================================\n",
      "Total params: 101,796\n",
      "Trainable params: 101,796\n",
      "Non-trainable params: 0\n",
      "_________________________________________________________________\n"
     ]
    }
   ],
   "source": [
    "model = keras.Sequential(\n",
    "    [\n",
    "        keras.Input(shape=input_shape),\n",
    "        layers.Conv2D(32, kernel_size=(3, 3), activation=\"relu\"),\n",
    "        layers.MaxPooling2D(pool_size=(2, 2)),\n",
    "        layers.Conv2D(64, kernel_size=(3, 3), activation=\"relu\"),\n",
    "        layers.MaxPooling2D(pool_size=(2, 2)),\n",
    "        layers.Flatten(),\n",
    "        layers.Dropout(0.5),\n",
    "        layers.Dense(num_classes, activation=\"softmax\"),\n",
    "    ]\n",
    ")\n",
    "\n",
    "model.summary()"
   ]
  },
  {
   "cell_type": "code",
   "execution_count": 131,
   "metadata": {},
   "outputs": [
    {
     "name": "stdout",
     "output_type": "stream",
     "text": [
      "Epoch 1/32\n",
      "72/72 [==============================] - 3s 35ms/step - loss: 3.5458 - accuracy: 0.0430 - val_loss: 3.4533 - val_accuracy: 0.0508\n",
      "Epoch 2/32\n",
      "72/72 [==============================] - 2s 28ms/step - loss: 3.2189 - accuracy: 0.1473 - val_loss: 2.9685 - val_accuracy: 0.2109\n",
      "Epoch 3/32\n",
      "72/72 [==============================] - 2s 29ms/step - loss: 2.5794 - accuracy: 0.3047 - val_loss: 2.4572 - val_accuracy: 0.3477\n",
      "Epoch 4/32\n",
      "72/72 [==============================] - 3s 36ms/step - loss: 2.0898 - accuracy: 0.4124 - val_loss: 2.0468 - val_accuracy: 0.4609\n",
      "Epoch 5/32\n",
      "72/72 [==============================] - 2s 30ms/step - loss: 1.7617 - accuracy: 0.4841 - val_loss: 1.8604 - val_accuracy: 0.5156\n",
      "Epoch 6/32\n",
      "72/72 [==============================] - 3s 37ms/step - loss: 1.5612 - accuracy: 0.5419 - val_loss: 1.7093 - val_accuracy: 0.5312\n",
      "Epoch 7/32\n",
      "72/72 [==============================] - 2s 32ms/step - loss: 1.3928 - accuracy: 0.5976 - val_loss: 1.6824 - val_accuracy: 0.5234\n",
      "Epoch 8/32\n",
      "72/72 [==============================] - 3s 35ms/step - loss: 1.2514 - accuracy: 0.6254 - val_loss: 1.5738 - val_accuracy: 0.5703\n",
      "Epoch 9/32\n",
      "72/72 [==============================] - 2s 33ms/step - loss: 1.1673 - accuracy: 0.6519 - val_loss: 1.5113 - val_accuracy: 0.5938\n",
      "Epoch 10/32\n",
      "72/72 [==============================] - 2s 34ms/step - loss: 1.0571 - accuracy: 0.6832 - val_loss: 1.4570 - val_accuracy: 0.6289\n",
      "Epoch 11/32\n",
      "72/72 [==============================] - 2s 32ms/step - loss: 1.0010 - accuracy: 0.7036 - val_loss: 1.4701 - val_accuracy: 0.6055\n",
      "Epoch 12/32\n",
      "72/72 [==============================] - 2s 31ms/step - loss: 0.9095 - accuracy: 0.7258 - val_loss: 1.4359 - val_accuracy: 0.6133\n",
      "Epoch 13/32\n",
      "72/72 [==============================] - 2s 34ms/step - loss: 0.8787 - accuracy: 0.7345 - val_loss: 1.3642 - val_accuracy: 0.6445\n",
      "Epoch 14/32\n",
      "72/72 [==============================] - 2s 34ms/step - loss: 0.8127 - accuracy: 0.7514 - val_loss: 1.3429 - val_accuracy: 0.6523\n",
      "Epoch 15/32\n",
      "72/72 [==============================] - 2s 32ms/step - loss: 0.7499 - accuracy: 0.7662 - val_loss: 1.3010 - val_accuracy: 0.6875\n",
      "Epoch 16/32\n",
      "72/72 [==============================] - 2s 30ms/step - loss: 0.7196 - accuracy: 0.7831 - val_loss: 1.3192 - val_accuracy: 0.6641\n",
      "Epoch 17/32\n",
      "72/72 [==============================] - 2s 30ms/step - loss: 0.6622 - accuracy: 0.7944 - val_loss: 1.3354 - val_accuracy: 0.6406\n",
      "Epoch 18/32\n",
      "72/72 [==============================] - 2s 30ms/step - loss: 0.6470 - accuracy: 0.7901 - val_loss: 1.2858 - val_accuracy: 0.6719\n",
      "Epoch 19/32\n",
      "72/72 [==============================] - 2s 33ms/step - loss: 0.5992 - accuracy: 0.8196 - val_loss: 1.2720 - val_accuracy: 0.6797\n",
      "Epoch 20/32\n",
      "72/72 [==============================] - 2s 31ms/step - loss: 0.5702 - accuracy: 0.8201 - val_loss: 1.2592 - val_accuracy: 0.6797\n",
      "Epoch 21/32\n",
      "72/72 [==============================] - 2s 33ms/step - loss: 0.5687 - accuracy: 0.8283 - val_loss: 1.2439 - val_accuracy: 0.6719\n",
      "Epoch 22/32\n",
      "72/72 [==============================] - 2s 34ms/step - loss: 0.5385 - accuracy: 0.8318 - val_loss: 1.2333 - val_accuracy: 0.6836\n",
      "Epoch 23/32\n",
      "72/72 [==============================] - 2s 34ms/step - loss: 0.5007 - accuracy: 0.8470 - val_loss: 1.2949 - val_accuracy: 0.6680\n",
      "Epoch 24/32\n",
      "72/72 [==============================] - 2s 33ms/step - loss: 0.5023 - accuracy: 0.8409 - val_loss: 1.2639 - val_accuracy: 0.6797\n",
      "Epoch 25/32\n",
      "72/72 [==============================] - 2s 34ms/step - loss: 0.4790 - accuracy: 0.8501 - val_loss: 1.2502 - val_accuracy: 0.6953\n",
      "Epoch 26/32\n",
      "72/72 [==============================] - 2s 31ms/step - loss: 0.4490 - accuracy: 0.8514 - val_loss: 1.2654 - val_accuracy: 0.7070\n",
      "Epoch 27/32\n",
      "72/72 [==============================] - 2s 33ms/step - loss: 0.4258 - accuracy: 0.8618 - val_loss: 1.2399 - val_accuracy: 0.6875\n",
      "Epoch 28/32\n",
      "72/72 [==============================] - 2s 34ms/step - loss: 0.3938 - accuracy: 0.8809 - val_loss: 1.2553 - val_accuracy: 0.6914\n",
      "Epoch 29/32\n",
      "72/72 [==============================] - 3s 38ms/step - loss: 0.4024 - accuracy: 0.8753 - val_loss: 1.2290 - val_accuracy: 0.7031\n",
      "Epoch 30/32\n",
      "72/72 [==============================] - 3s 41ms/step - loss: 0.3915 - accuracy: 0.8735 - val_loss: 1.2441 - val_accuracy: 0.7188\n",
      "Epoch 31/32\n",
      "72/72 [==============================] - 3s 44ms/step - loss: 0.3776 - accuracy: 0.8814 - val_loss: 1.2274 - val_accuracy: 0.6875\n",
      "Epoch 32/32\n",
      "72/72 [==============================] - 3s 38ms/step - loss: 0.3544 - accuracy: 0.8818 - val_loss: 1.3939 - val_accuracy: 0.6719\n"
     ]
    }
   ],
   "source": [
    "\n",
    "model.compile(loss=\"categorical_crossentropy\", optimizer=\"adam\", metrics=[\"accuracy\"])\n",
    "\n",
    "history = model.fit(x_train, y_train, batch_size=batch_size, epochs=epochs, validation_split=0.1)"
   ]
  },
  {
   "cell_type": "code",
   "execution_count": 132,
   "metadata": {},
   "outputs": [
    {
     "name": "stdout",
     "output_type": "stream",
     "text": [
      "Test loss: 1.210801362991333\n",
      "Test accuracy: 0.7198124527931213\n"
     ]
    }
   ],
   "source": [
    "score = model.evaluate(x_test, y_test, verbose=0)\n",
    "print(\"Test loss:\", score[0])\n",
    "print(\"Test accuracy:\", score[1])"
   ]
  },
  {
   "cell_type": "markdown",
   "metadata": {},
   "source": [
    "###### It is clear that since the lose is going down but val_lose it stay the same, also the val_acc is not increasing. So it is a clear sign of this is not a good model and we may fill in some overfitting situation. The reason of this overfitting is because the dataset is too small, like fir each character there are only near 100 images and we need to split some for testing. There are not enough images for training the model. So I decide to expand the dataset using image augmentation."
   ]
  },
  {
   "cell_type": "markdown",
   "metadata": {},
   "source": [
    "## Image augmentation and union"
   ]
  },
  {
   "cell_type": "code",
   "execution_count": 133,
   "metadata": {},
   "outputs": [
    {
     "data": {
      "image/png": "[encoded data removed]",
      "text/plain": [
       "<Figure size 432x288 with 1 Axes>"
      ]
     },
     "metadata": {
      "needs_background": "light"
     },
     "output_type": "display_data"
    }
   ],
   "source": [
    "import imgaug.augmenters as iaa\n",
    "\n",
    "augmentated_images = []\n",
    "for i in images:\n",
    "    gaussian_noise=iaa.AdditiveGaussianNoise(0.01,0.05)\n",
    "    noise_image=gaussian_noise.augment_image(i)\n",
    "    shear = iaa.Affine(shear=(0,40))\n",
    "    shear_image=shear.augment_image(noise_image)\n",
    "    augmentated_images.append(shear_image)\n",
    "    \n",
    "    \n",
    "plt.imshow(augmentated_images[0], cmap=\"gray\") \n",
    "plt.show()"
   ]
  },
  {
   "cell_type": "code",
   "execution_count": 134,
   "metadata": {},
   "outputs": [],
   "source": [
    "\n",
    "images = images + augmentated_images\n",
    "labels = [i.upper() for i in df['label']] + [i.upper() for i in df['label']]"
   ]
  },
  {
   "cell_type": "markdown",
   "metadata": {},
   "source": [
    "## Second Tryout"
   ]
  },
  {
   "cell_type": "code",
   "execution_count": 135,
   "metadata": {},
   "outputs": [
    {
     "name": "stdout",
     "output_type": "stream",
     "text": [
      "x_train shape: (5115, 32, 32, 1)\n",
      "5115 train samples\n",
      "1705 test samples\n"
     ]
    }
   ],
   "source": [
    "from sklearn.preprocessing import LabelEncoder\n",
    "\n",
    "\n",
    "\n",
    "images = np.expand_dims(images, -1)\n",
    "x_train, x_test, y_train, y_test = train_test_split(images, labels)\n",
    "print(\"x_train shape:\", x_train.shape)\n",
    "print(len(x_train), \"train samples\")\n",
    "print(len(x_test), \"test samples\")\n",
    "\n",
    "train_trans = LabelEncoder().fit_transform(y_train)\n",
    "test_trans = LabelEncoder().fit_transform(y_test)\n",
    "\n",
    "y_train = keras.utils.to_categorical(train_trans, num_classes)\n",
    "y_test = keras.utils.to_categorical(test_trans, num_classes)"
   ]
  },
  {
   "cell_type": "code",
   "execution_count": 136,
   "metadata": {
    "scrolled": false
   },
   "outputs": [
    {
     "name": "stdout",
     "output_type": "stream",
     "text": [
      "WARNING:tensorflow:Please add `keras.layers.InputLayer` instead of `keras.Input` to Sequential model. `keras.Input` is intended to be used by Functional model.\n",
      "Model: \"sequential_10\"\n",
      "_________________________________________________________________\n",
      "Layer (type)                 Output Shape              Param #   \n",
      "=================================================================\n",
      "conv2d_33 (Conv2D)           (None, 30, 30, 32)        320       \n",
      "_________________________________________________________________\n",
      "max_pooling2d_18 (MaxPooling (None, 15, 15, 32)        0         \n",
      "_________________________________________________________________\n",
      "conv2d_34 (Conv2D)           (None, 13, 13, 64)        18496     \n",
      "_________________________________________________________________\n",
      "max_pooling2d_19 (MaxPooling (None, 6, 6, 64)          0         \n",
      "_________________________________________________________________\n",
      "flatten_9 (Flatten)          (None, 2304)              0         \n",
      "_________________________________________________________________\n",
      "dropout_24 (Dropout)         (None, 2304)              0         \n",
      "_________________________________________________________________\n",
      "dense_14 (Dense)             (None, 36)                82980     \n",
      "=================================================================\n",
      "Total params: 101,796\n",
      "Trainable params: 101,796\n",
      "Non-trainable params: 0\n",
      "_________________________________________________________________\n"
     ]
    }
   ],
   "source": [
    "model = keras.Sequential(\n",
    "    [\n",
    "        keras.Input(shape=input_shape),\n",
    "        layers.Conv2D(32, kernel_size=(3, 3), activation=\"relu\"),\n",
    "        layers.MaxPooling2D(pool_size=(2, 2)),\n",
    "        layers.Conv2D(64, kernel_size=(3, 3), activation=\"relu\"),\n",
    "        layers.MaxPooling2D(pool_size=(2, 2)),\n",
    "        layers.Flatten(),\n",
    "        layers.Dropout(0.5),\n",
    "        layers.Dense(num_classes, activation=\"softmax\"),\n",
    "    ]\n",
    ")\n",
    "\n",
    "model.summary()"
   ]
  },
  {
   "cell_type": "code",
   "execution_count": 99,
   "metadata": {
    "scrolled": false
   },
   "outputs": [
    {
     "name": "stdout",
     "output_type": "stream",
     "text": [
      "Epoch 1/32\n",
      "144/144 [==============================] - 5s 28ms/step - loss: 3.4642 - accuracy: 0.0693 - val_loss: 3.1446 - val_accuracy: 0.2480\n",
      "Epoch 2/32\n",
      "144/144 [==============================] - 4s 28ms/step - loss: 2.6392 - accuracy: 0.2881 - val_loss: 2.0783 - val_accuracy: 0.4277\n",
      "Epoch 3/32\n",
      "144/144 [==============================] - 4s 29ms/step - loss: 1.9667 - accuracy: 0.4473 - val_loss: 1.7216 - val_accuracy: 0.5566\n",
      "Epoch 4/32\n",
      "144/144 [==============================] - 4s 29ms/step - loss: 1.6589 - accuracy: 0.5257 - val_loss: 1.5181 - val_accuracy: 0.5801\n",
      "Epoch 5/32\n",
      "144/144 [==============================] - 4s 29ms/step - loss: 1.4859 - accuracy: 0.5718 - val_loss: 1.3454 - val_accuracy: 0.6309\n",
      "Epoch 6/32\n",
      "144/144 [==============================] - 4s 29ms/step - loss: 1.3442 - accuracy: 0.6029 - val_loss: 1.2475 - val_accuracy: 0.6641\n",
      "Epoch 7/32\n",
      "144/144 [==============================] - 4s 29ms/step - loss: 1.2213 - accuracy: 0.6400 - val_loss: 1.1741 - val_accuracy: 0.6875\n",
      "Epoch 8/32\n",
      "144/144 [==============================] - 5s 37ms/step - loss: 1.1045 - accuracy: 0.6730 - val_loss: 1.1000 - val_accuracy: 0.6992\n",
      "Epoch 9/32\n",
      "144/144 [==============================] - 5s 34ms/step - loss: 1.0364 - accuracy: 0.6889 - val_loss: 1.0676 - val_accuracy: 0.7090\n",
      "Epoch 10/32\n",
      "144/144 [==============================] - 5s 31ms/step - loss: 0.9697 - accuracy: 0.7093 - val_loss: 1.0067 - val_accuracy: 0.7285\n",
      "Epoch 11/32\n",
      "144/144 [==============================] - 5s 31ms/step - loss: 0.9069 - accuracy: 0.7293 - val_loss: 0.9693 - val_accuracy: 0.7305\n",
      "Epoch 12/32\n",
      "144/144 [==============================] - 5s 32ms/step - loss: 0.8484 - accuracy: 0.7376 - val_loss: 0.9218 - val_accuracy: 0.7441\n",
      "Epoch 13/32\n",
      "144/144 [==============================] - 5s 32ms/step - loss: 0.8052 - accuracy: 0.7539 - val_loss: 0.9199 - val_accuracy: 0.7441\n",
      "Epoch 14/32\n",
      "144/144 [==============================] - 5s 32ms/step - loss: 0.7542 - accuracy: 0.7654 - val_loss: 0.8944 - val_accuracy: 0.7520\n",
      "Epoch 15/32\n",
      "144/144 [==============================] - 5s 32ms/step - loss: 0.7079 - accuracy: 0.7838 - val_loss: 0.9294 - val_accuracy: 0.7285\n",
      "Epoch 16/32\n",
      "144/144 [==============================] - 5s 32ms/step - loss: 0.6827 - accuracy: 0.7897 - val_loss: 0.8405 - val_accuracy: 0.7500\n",
      "Epoch 17/32\n",
      "144/144 [==============================] - 5s 34ms/step - loss: 0.6517 - accuracy: 0.7958 - val_loss: 0.8246 - val_accuracy: 0.7520\n",
      "Epoch 18/32\n",
      "144/144 [==============================] - 5s 34ms/step - loss: 0.6452 - accuracy: 0.7999 - val_loss: 0.7939 - val_accuracy: 0.7754\n",
      "Epoch 19/32\n",
      "144/144 [==============================] - 5s 34ms/step - loss: 0.5890 - accuracy: 0.8175 - val_loss: 0.8195 - val_accuracy: 0.7578\n",
      "Epoch 20/32\n",
      "144/144 [==============================] - 5s 38ms/step - loss: 0.5788 - accuracy: 0.8208 - val_loss: 0.8164 - val_accuracy: 0.7617\n",
      "Epoch 21/32\n",
      "144/144 [==============================] - 5s 33ms/step - loss: 0.5406 - accuracy: 0.8301 - val_loss: 0.7986 - val_accuracy: 0.7695\n",
      "Epoch 22/32\n",
      "144/144 [==============================] - 5s 33ms/step - loss: 0.5347 - accuracy: 0.8266 - val_loss: 0.7638 - val_accuracy: 0.7832\n",
      "Epoch 23/32\n",
      "144/144 [==============================] - 5s 32ms/step - loss: 0.5106 - accuracy: 0.8368 - val_loss: 0.8023 - val_accuracy: 0.7832\n",
      "Epoch 24/32\n",
      "144/144 [==============================] - 5s 32ms/step - loss: 0.5004 - accuracy: 0.8395 - val_loss: 0.7491 - val_accuracy: 0.7812\n",
      "Epoch 25/32\n",
      "144/144 [==============================] - 5s 33ms/step - loss: 0.4680 - accuracy: 0.8534 - val_loss: 0.7850 - val_accuracy: 0.7891\n",
      "Epoch 26/32\n",
      "144/144 [==============================] - 5s 32ms/step - loss: 0.4568 - accuracy: 0.8562 - val_loss: 0.7383 - val_accuracy: 0.7969\n",
      "Epoch 27/32\n",
      "144/144 [==============================] - 5s 32ms/step - loss: 0.4438 - accuracy: 0.8588 - val_loss: 0.7216 - val_accuracy: 0.7910\n",
      "Epoch 28/32\n",
      "144/144 [==============================] - 5s 33ms/step - loss: 0.4376 - accuracy: 0.8549 - val_loss: 0.7415 - val_accuracy: 0.7852\n",
      "Epoch 29/32\n",
      "144/144 [==============================] - 5s 33ms/step - loss: 0.4162 - accuracy: 0.8681 - val_loss: 0.7108 - val_accuracy: 0.8008\n",
      "Epoch 30/32\n",
      "144/144 [==============================] - 5s 33ms/step - loss: 0.4107 - accuracy: 0.8664 - val_loss: 0.7261 - val_accuracy: 0.7988\n",
      "Epoch 31/32\n",
      "144/144 [==============================] - 5s 34ms/step - loss: 0.3840 - accuracy: 0.8775 - val_loss: 0.7507 - val_accuracy: 0.7812\n",
      "Epoch 32/32\n",
      "144/144 [==============================] - 5s 32ms/step - loss: 0.3852 - accuracy: 0.8723 - val_loss: 0.7237 - val_accuracy: 0.8066\n"
     ]
    }
   ],
   "source": [
    "\n",
    "model.compile(loss=\"categorical_crossentropy\", optimizer=\"adam\", metrics=[\"accuracy\"])\n",
    "\n",
    "history = model.fit(x_train, y_train, batch_size=batch_size, epochs=epochs, validation_split=0.1)"
   ]
  },
  {
   "cell_type": "code",
   "execution_count": 100,
   "metadata": {},
   "outputs": [
    {
     "data": {
      "image/png": "[encoded data removed]",
      "text/plain": [
       "<Figure size 432x288 with 1 Axes>"
      ]
     },
     "metadata": {
      "needs_background": "light"
     },
     "output_type": "display_data"
    },
    {
     "data": {
      "image/png": "[encoded data removed]",
      "text/plain": [
       "<Figure size 432x288 with 1 Axes>"
      ]
     },
     "metadata": {
      "needs_background": "light"
     },
     "output_type": "display_data"
    }
   ],
   "source": [
    "plt.plot(history.history['accuracy'])\n",
    "plt.plot(history.history['val_accuracy'])\n",
    "plt.title('Model accuracy')\n",
    "plt.ylabel('Accuracy')\n",
    "plt.xlabel('Epoch')\n",
    "plt.legend(['Train', 'Test'], loc='upper left')\n",
    "plt.show()\n",
    "\n",
    "plt.plot(history.history['loss'])\n",
    "plt.plot(history.history['val_loss'])\n",
    "plt.title('Model loss')\n",
    "plt.ylabel('Loss')\n",
    "plt.xlabel('Epoch')\n",
    "plt.legend(['Train', 'Test'], loc='upper left')\n",
    "plt.show()"
   ]
  },
  {
   "cell_type": "code",
   "execution_count": 101,
   "metadata": {},
   "outputs": [
    {
     "name": "stdout",
     "output_type": "stream",
     "text": [
      "Test loss: 0.8730539083480835\n",
      "Test accuracy: 0.7806451320648193\n"
     ]
    }
   ],
   "source": [
    "score = model.evaluate(x_test, y_test, verbose=0)\n",
    "print(\"Test loss:\", score[0])\n",
    "print(\"Test accuracy:\", score[1])"
   ]
  },
  {
   "cell_type": "code",
   "execution_count": 111,
   "metadata": {},
   "outputs": [
    {
     "name": "stdout",
     "output_type": "stream",
     "text": [
      "Epoch 1/32\n",
      "32/32 [==============================] - 5s 122ms/step - loss: 3.5558 - accuracy: 0.0354 - val_loss: 3.5247 - val_accuracy: 0.0626\n",
      "Epoch 2/32\n",
      "32/32 [==============================] - 4s 114ms/step - loss: 3.4544 - accuracy: 0.0848 - val_loss: 3.3383 - val_accuracy: 0.1417\n",
      "Epoch 3/32\n",
      "32/32 [==============================] - 3s 107ms/step - loss: 3.1298 - accuracy: 0.1782 - val_loss: 2.8534 - val_accuracy: 0.2776\n",
      "Epoch 4/32\n",
      "32/32 [==============================] - 3s 104ms/step - loss: 2.6998 - accuracy: 0.2730 - val_loss: 2.4609 - val_accuracy: 0.3617\n",
      "Epoch 5/32\n",
      "32/32 [==============================] - 4s 125ms/step - loss: 2.3299 - accuracy: 0.3639 - val_loss: 2.1161 - val_accuracy: 0.4262\n",
      "Epoch 6/32\n",
      "32/32 [==============================] - 3s 104ms/step - loss: 2.0537 - accuracy: 0.4286 - val_loss: 1.9075 - val_accuracy: 0.4946\n",
      "Epoch 7/32\n",
      "32/32 [==============================] - 3s 103ms/step - loss: 1.8315 - accuracy: 0.4924 - val_loss: 1.7397 - val_accuracy: 0.5396\n",
      "Epoch 8/32\n",
      "32/32 [==============================] - 3s 98ms/step - loss: 1.6826 - accuracy: 0.5222 - val_loss: 1.6868 - val_accuracy: 0.5396\n",
      "Epoch 9/32\n",
      "32/32 [==============================] - 3s 92ms/step - loss: 1.5915 - accuracy: 0.5477 - val_loss: 1.5907 - val_accuracy: 0.5709\n",
      "Epoch 10/32\n",
      "32/32 [==============================] - 3s 94ms/step - loss: 1.4967 - accuracy: 0.5665 - val_loss: 1.5132 - val_accuracy: 0.5924\n",
      "Epoch 11/32\n",
      "32/32 [==============================] - 3s 92ms/step - loss: 1.4303 - accuracy: 0.5892 - val_loss: 1.4632 - val_accuracy: 0.6070\n",
      "Epoch 12/32\n",
      "32/32 [==============================] - 3s 91ms/step - loss: 1.3428 - accuracy: 0.6041 - val_loss: 1.4075 - val_accuracy: 0.6129\n",
      "Epoch 13/32\n",
      "32/32 [==============================] - 3s 92ms/step - loss: 1.3012 - accuracy: 0.6271 - val_loss: 1.3553 - val_accuracy: 0.6325\n",
      "Epoch 14/32\n",
      "32/32 [==============================] - 3s 96ms/step - loss: 1.2269 - accuracy: 0.6393 - val_loss: 1.3423 - val_accuracy: 0.6354\n",
      "Epoch 15/32\n",
      "32/32 [==============================] - 4s 123ms/step - loss: 1.1634 - accuracy: 0.6610 - val_loss: 1.3044 - val_accuracy: 0.6364\n",
      "Epoch 16/32\n",
      "32/32 [==============================] - 4s 130ms/step - loss: 1.1194 - accuracy: 0.6694 - val_loss: 1.2502 - val_accuracy: 0.6559\n",
      "Epoch 17/32\n",
      "32/32 [==============================] - 5s 144ms/step - loss: 1.0734 - accuracy: 0.6923 - val_loss: 1.2345 - val_accuracy: 0.6569\n",
      "Epoch 18/32\n",
      "32/32 [==============================] - 4s 118ms/step - loss: 1.0407 - accuracy: 0.6860 - val_loss: 1.2237 - val_accuracy: 0.6559\n",
      "Epoch 19/32\n",
      "32/32 [==============================] - 4s 131ms/step - loss: 0.9856 - accuracy: 0.7104 - val_loss: 1.1769 - val_accuracy: 0.6843\n",
      "Epoch 20/32\n",
      "32/32 [==============================] - 4s 112ms/step - loss: 0.9488 - accuracy: 0.7175 - val_loss: 1.1667 - val_accuracy: 0.6901\n",
      "Epoch 21/32\n",
      "32/32 [==============================] - 3s 105ms/step - loss: 0.9281 - accuracy: 0.7239 - val_loss: 1.1503 - val_accuracy: 0.6774\n",
      "Epoch 22/32\n",
      "32/32 [==============================] - 3s 109ms/step - loss: 0.8978 - accuracy: 0.7370 - val_loss: 1.1410 - val_accuracy: 0.6833\n",
      "Epoch 23/32\n",
      "32/32 [==============================] - 4s 120ms/step - loss: 0.8590 - accuracy: 0.7456 - val_loss: 1.1035 - val_accuracy: 0.6979\n",
      "Epoch 24/32\n",
      "32/32 [==============================] - 4s 116ms/step - loss: 0.8362 - accuracy: 0.7446 - val_loss: 1.0884 - val_accuracy: 0.7116\n",
      "Epoch 25/32\n",
      "32/32 [==============================] - 3s 108ms/step - loss: 0.8051 - accuracy: 0.7576 - val_loss: 1.0887 - val_accuracy: 0.7028\n",
      "Epoch 26/32\n",
      "32/32 [==============================] - 4s 111ms/step - loss: 0.7769 - accuracy: 0.7671 - val_loss: 1.0632 - val_accuracy: 0.7224\n",
      "Epoch 27/32\n",
      "32/32 [==============================] - 3s 104ms/step - loss: 0.7599 - accuracy: 0.7691 - val_loss: 1.0412 - val_accuracy: 0.7048\n",
      "Epoch 28/32\n",
      "32/32 [==============================] - 4s 115ms/step - loss: 0.7384 - accuracy: 0.7781 - val_loss: 1.0349 - val_accuracy: 0.7058\n",
      "Epoch 29/32\n",
      "32/32 [==============================] - 4s 112ms/step - loss: 0.7147 - accuracy: 0.7840 - val_loss: 1.0413 - val_accuracy: 0.7097\n",
      "Epoch 30/32\n",
      "32/32 [==============================] - 4s 126ms/step - loss: 0.6972 - accuracy: 0.7950 - val_loss: 1.0384 - val_accuracy: 0.7253\n",
      "Epoch 31/32\n",
      "32/32 [==============================] - 5s 168ms/step - loss: 0.6965 - accuracy: 0.7913 - val_loss: 1.0395 - val_accuracy: 0.7185\n",
      "Epoch 32/32\n",
      "32/32 [==============================] - 4s 127ms/step - loss: 0.6781 - accuracy: 0.7893 - val_loss: 1.0289 - val_accuracy: 0.7204\n"
     ]
    }
   ],
   "source": [
    "model.compile(loss=\"categorical_crossentropy\", optimizer=\"adam\", metrics=[\"accuracy\"])\n",
    "\n",
    "history = model.fit(x_train, y_train, batch_size=128, epochs=epochs, validation_split=0.2)"
   ]
  },
  {
   "cell_type": "code",
   "execution_count": 112,
   "metadata": {},
   "outputs": [
    {
     "name": "stdout",
     "output_type": "stream",
     "text": [
      "Test loss: 1.0485948324203491\n",
      "Test accuracy: 0.7102639079093933\n"
     ]
    }
   ],
   "source": [
    "score = model.evaluate(x_test, y_test, verbose=0)\n",
    "print(\"Test loss:\", score[0])\n",
    "print(\"Test accuracy:\", score[1])"
   ]
  },
  {
   "cell_type": "code",
   "execution_count": 138,
   "metadata": {},
   "outputs": [
    {
     "name": "stdout",
     "output_type": "stream",
     "text": [
      "Epoch 1/32\n",
      "288/288 [==============================] - 6s 20ms/step - loss: 3.4505 - accuracy: 0.0821 - val_loss: 3.0480 - val_accuracy: 0.1738\n",
      "Epoch 2/32\n",
      "288/288 [==============================] - 5s 17ms/step - loss: 2.4136 - accuracy: 0.3296 - val_loss: 2.1009 - val_accuracy: 0.4336\n",
      "Epoch 3/32\n",
      "288/288 [==============================] - 5s 17ms/step - loss: 1.8813 - accuracy: 0.4645 - val_loss: 1.8127 - val_accuracy: 0.4922\n",
      "Epoch 4/32\n",
      "288/288 [==============================] - 6s 19ms/step - loss: 1.6769 - accuracy: 0.5127 - val_loss: 1.6187 - val_accuracy: 0.5332\n",
      "Epoch 5/32\n",
      "288/288 [==============================] - 4s 15ms/step - loss: 1.5099 - accuracy: 0.5631 - val_loss: 1.5158 - val_accuracy: 0.5605\n",
      "Epoch 6/32\n",
      "288/288 [==============================] - 5s 17ms/step - loss: 1.3671 - accuracy: 0.5955 - val_loss: 1.5167 - val_accuracy: 0.5840\n",
      "Epoch 7/32\n",
      "288/288 [==============================] - 6s 20ms/step - loss: 1.2778 - accuracy: 0.6235 - val_loss: 1.3460 - val_accuracy: 0.6250\n",
      "Epoch 8/32\n",
      "288/288 [==============================] - 5s 18ms/step - loss: 1.1966 - accuracy: 0.6502 - val_loss: 1.2242 - val_accuracy: 0.6621\n",
      "Epoch 9/32\n",
      "288/288 [==============================] - 5s 19ms/step - loss: 1.1123 - accuracy: 0.6650 - val_loss: 1.1800 - val_accuracy: 0.6777\n",
      "Epoch 10/32\n",
      "288/288 [==============================] - 5s 18ms/step - loss: 1.0327 - accuracy: 0.6830 - val_loss: 1.1357 - val_accuracy: 0.6875\n",
      "Epoch 11/32\n",
      "288/288 [==============================] - 7s 23ms/step - loss: 0.9824 - accuracy: 0.7002 - val_loss: 1.1280 - val_accuracy: 0.6875\n",
      "Epoch 12/32\n",
      "288/288 [==============================] - 6s 22ms/step - loss: 0.9470 - accuracy: 0.7076 - val_loss: 1.0872 - val_accuracy: 0.7031\n",
      "Epoch 13/32\n",
      "288/288 [==============================] - 5s 18ms/step - loss: 0.8981 - accuracy: 0.7326 - val_loss: 1.0607 - val_accuracy: 0.7129\n",
      "Epoch 14/32\n",
      "288/288 [==============================] - 5s 16ms/step - loss: 0.8649 - accuracy: 0.7265 - val_loss: 1.0341 - val_accuracy: 0.7266\n",
      "Epoch 15/32\n",
      "288/288 [==============================] - 4s 15ms/step - loss: 0.8345 - accuracy: 0.7402 - val_loss: 1.0120 - val_accuracy: 0.7207\n",
      "Epoch 16/32\n",
      "288/288 [==============================] - 4s 15ms/step - loss: 0.8309 - accuracy: 0.7436 - val_loss: 0.9876 - val_accuracy: 0.7246\n",
      "Epoch 17/32\n",
      "288/288 [==============================] - 4s 15ms/step - loss: 0.7668 - accuracy: 0.7608 - val_loss: 0.9714 - val_accuracy: 0.7188\n",
      "Epoch 18/32\n",
      "288/288 [==============================] - 4s 15ms/step - loss: 0.7417 - accuracy: 0.7695 - val_loss: 0.9776 - val_accuracy: 0.7266\n",
      "Epoch 19/32\n",
      "288/288 [==============================] - 5s 16ms/step - loss: 0.7262 - accuracy: 0.7662 - val_loss: 0.9178 - val_accuracy: 0.7305\n",
      "Epoch 20/32\n",
      "288/288 [==============================] - 5s 16ms/step - loss: 0.6828 - accuracy: 0.7784 - val_loss: 0.9412 - val_accuracy: 0.7480\n",
      "Epoch 21/32\n",
      "288/288 [==============================] - 5s 17ms/step - loss: 0.6754 - accuracy: 0.7849 - val_loss: 0.9503 - val_accuracy: 0.7266\n",
      "Epoch 22/32\n",
      "288/288 [==============================] - 6s 20ms/step - loss: 0.6588 - accuracy: 0.7895 - val_loss: 0.9238 - val_accuracy: 0.7539\n",
      "Epoch 23/32\n",
      "288/288 [==============================] - 5s 18ms/step - loss: 0.6397 - accuracy: 0.7940 - val_loss: 0.9496 - val_accuracy: 0.7344\n",
      "Epoch 24/32\n",
      "288/288 [==============================] - 5s 19ms/step - loss: 0.6283 - accuracy: 0.8036 - val_loss: 0.9036 - val_accuracy: 0.7578\n",
      "Epoch 25/32\n",
      "288/288 [==============================] - 6s 21ms/step - loss: 0.6141 - accuracy: 0.8051 - val_loss: 0.9050 - val_accuracy: 0.7617\n",
      "Epoch 26/32\n",
      "288/288 [==============================] - 5s 17ms/step - loss: 0.6038 - accuracy: 0.8025 - val_loss: 0.9180 - val_accuracy: 0.7539\n",
      "Epoch 27/32\n",
      "288/288 [==============================] - 5s 17ms/step - loss: 0.5958 - accuracy: 0.8040 - val_loss: 0.9051 - val_accuracy: 0.7754\n",
      "Epoch 28/32\n",
      "288/288 [==============================] - 6s 19ms/step - loss: 0.5604 - accuracy: 0.8192 - val_loss: 0.8763 - val_accuracy: 0.7734\n",
      "Epoch 29/32\n",
      "288/288 [==============================] - 7s 23ms/step - loss: 0.5559 - accuracy: 0.8186 - val_loss: 0.9058 - val_accuracy: 0.7480\n",
      "Epoch 30/32\n",
      "288/288 [==============================] - 6s 22ms/step - loss: 0.5586 - accuracy: 0.8240 - val_loss: 0.8989 - val_accuracy: 0.7676\n",
      "Epoch 31/32\n",
      "288/288 [==============================] - 6s 20ms/step - loss: 0.5499 - accuracy: 0.8227 - val_loss: 0.8680 - val_accuracy: 0.7734\n",
      "Epoch 32/32\n",
      "288/288 [==============================] - 5s 18ms/step - loss: 0.5330 - accuracy: 0.8234 - val_loss: 0.8691 - val_accuracy: 0.7559\n"
     ]
    }
   ],
   "source": [
    "model.compile(loss=\"categorical_crossentropy\", optimizer=\"adam\", metrics=[\"accuracy\"])\n",
    "\n",
    "history = model.fit(x_train, y_train, batch_size=16, epochs=epochs, validation_split=0.1)"
   ]
  },
  {
   "cell_type": "code",
   "execution_count": 139,
   "metadata": {},
   "outputs": [
    {
     "name": "stdout",
     "output_type": "stream",
     "text": [
      "Test loss: 0.8946492671966553\n",
      "Test accuracy: 0.7565982341766357\n"
     ]
    }
   ],
   "source": [
    "score = model.evaluate(x_test, y_test, verbose=0)\n",
    "print(\"Test loss:\", score[0])\n",
    "print(\"Test accuracy:\", score[1])"
   ]
  },
  {
   "cell_type": "markdown",
   "metadata": {},
   "source": [
    "###### We did some experiments on batchsize (16, 32, 128) and experiments on validation_split(0.1, 0.2). After image augmentation there are around 200 image for each chraracter so the overfitting porblem didn't happen anymore. After the experiments it is clear that batchsize 32 and validation_split 0.1 gives the best accuracy. We will use this result for our future. We think that the accuracy is good but not good enough since it even didn't achieve 0.8. At this time, we think the problem is our NN model. "
   ]
  },
  {
   "cell_type": "markdown",
   "metadata": {},
   "source": [
    "## Final Tryout"
   ]
  },
  {
   "cell_type": "code",
   "execution_count": 141,
   "metadata": {},
   "outputs": [
    {
     "name": "stdout",
     "output_type": "stream",
     "text": [
      "Model: \"sequential_11\"\n",
      "_________________________________________________________________\n",
      "Layer (type)                 Output Shape              Param #   \n",
      "=================================================================\n",
      "conv2d_35 (Conv2D)           (None, 30, 30, 32)        320       \n",
      "_________________________________________________________________\n",
      "conv2d_36 (Conv2D)           (None, 28, 28, 32)        9248      \n",
      "_________________________________________________________________\n",
      "max_pooling2d_20 (MaxPooling (None, 14, 14, 32)        0         \n",
      "_________________________________________________________________\n",
      "dropout_25 (Dropout)         (None, 14, 14, 32)        0         \n",
      "_________________________________________________________________\n",
      "conv2d_37 (Conv2D)           (None, 14, 14, 64)        18496     \n",
      "_________________________________________________________________\n",
      "conv2d_38 (Conv2D)           (None, 14, 14, 64)        36928     \n",
      "_________________________________________________________________\n",
      "max_pooling2d_21 (MaxPooling (None, 7, 7, 64)          0         \n",
      "_________________________________________________________________\n",
      "dropout_26 (Dropout)         (None, 7, 7, 64)          0         \n",
      "_________________________________________________________________\n",
      "conv2d_39 (Conv2D)           (None, 7, 7, 128)         73856     \n",
      "_________________________________________________________________\n",
      "dropout_27 (Dropout)         (None, 7, 7, 128)         0         \n",
      "_________________________________________________________________\n",
      "flatten_10 (Flatten)         (None, 6272)              0         \n",
      "_________________________________________________________________\n",
      "dense_15 (Dense)             (None, 128)               802944    \n",
      "_________________________________________________________________\n",
      "batch_normalization_5 (Batch (None, 128)               512       \n",
      "_________________________________________________________________\n",
      "dropout_28 (Dropout)         (None, 128)               0         \n",
      "_________________________________________________________________\n",
      "dense_16 (Dense)             (None, 36)                4644      \n",
      "=================================================================\n",
      "Total params: 946,948\n",
      "Trainable params: 946,692\n",
      "Non-trainable params: 256\n",
      "_________________________________________________________________\n"
     ]
    }
   ],
   "source": [
    "model = keras.Sequential()\n",
    "model.add(layers.Conv2D(32, kernel_size=(3, 3),activation='relu',kernel_initializer='he_normal',input_shape=input_shape))\n",
    "model.add(layers.Conv2D(32, kernel_size=(3, 3),activation='relu',kernel_initializer='he_normal'))\n",
    "model.add(layers.MaxPool2D((2, 2)))\n",
    "model.add(layers.Dropout(0.20))\n",
    "model.add(layers.Conv2D(64, (3, 3), activation='relu',padding='same',kernel_initializer='he_normal'))\n",
    "model.add(layers.Conv2D(64, (3, 3), activation='relu',padding='same',kernel_initializer='he_normal'))\n",
    "model.add(layers.MaxPool2D(pool_size=(2, 2)))\n",
    "model.add(layers.Dropout(0.25))\n",
    "model.add(layers.Conv2D(128, (3, 3), activation='relu',padding='same',kernel_initializer='he_normal'))\n",
    "model.add(layers.Dropout(0.25))\n",
    "model.add(layers.Flatten())\n",
    "model.add(layers.Dense(128, activation='relu'))\n",
    "model.add(layers.BatchNormalization())\n",
    "model.add(layers.Dropout(0.25))\n",
    "model.add(layers.Dense(num_classes, activation='softmax'))\n",
    "\n",
    "model.compile(loss=keras.losses.categorical_crossentropy,\n",
    "              optimizer=keras.optimizers.RMSprop(),\n",
    "              metrics=['accuracy'])\n",
    "\n",
    "learning_rate_reduction = keras.callbacks.ReduceLROnPlateau(monitor='val_acc', \n",
    "                                            patience=3, \n",
    "                                            verbose=1, \n",
    "                                            factor=0.5, \n",
    "                                            min_lr=0.0001)\n",
    "\n",
    "datagen = keras.preprocessing.image.ImageDataGenerator(\n",
    "        featurewise_center=False,  # set input mean to 0 over the dataset\n",
    "        samplewise_center=False,  # set each sample mean to 0\n",
    "        featurewise_std_normalization=False,  # divide inputs by std of the dataset\n",
    "        samplewise_std_normalization=False,  # divide each input by its std\n",
    "        zca_whitening=False,  # apply ZCA whitening\n",
    "        rotation_range=15, # randomly rotate images in the range (degrees, 0 to 180)\n",
    "        zoom_range = 0.1, # Randomly zoom image \n",
    "        width_shift_range=0.1,  # randomly shift images horizontally (fraction of total width)\n",
    "        height_shift_range=0.1,  # randomly shift images vertically (fraction of total height)\n",
    "        horizontal_flip=False,  # randomly flip images\n",
    "        vertical_flip=False)  # randomly flip images\n",
    "model.summary()"
   ]
  },
  {
   "cell_type": "code",
   "execution_count": 144,
   "metadata": {},
   "outputs": [
    {
     "name": "stdout",
     "output_type": "stream",
     "text": [
      "Epoch 1/32\n",
      "159/159 [==============================] - 28s 173ms/step - loss: 3.4046 - accuracy: 0.0840 - val_loss: 3.8323 - val_accuracy: 0.0968\n",
      "WARNING:tensorflow:Learning rate reduction is conditioned on metric `val_acc` which is not available. Available metrics are: loss,accuracy,val_loss,val_accuracy,lr\n",
      "Epoch 2/32\n",
      "159/159 [==============================] - 30s 190ms/step - loss: 3.0555 - accuracy: 0.1348 - val_loss: 2.7791 - val_accuracy: 0.2164\n",
      "WARNING:tensorflow:Learning rate reduction is conditioned on metric `val_acc` which is not available. Available metrics are: loss,accuracy,val_loss,val_accuracy,lr\n",
      "Epoch 3/32\n",
      "159/159 [==============================] - 25s 156ms/step - loss: 2.5255 - accuracy: 0.2849 - val_loss: 2.4115 - val_accuracy: 0.3208\n",
      "WARNING:tensorflow:Learning rate reduction is conditioned on metric `val_acc` which is not available. Available metrics are: loss,accuracy,val_loss,val_accuracy,lr\n",
      "Epoch 4/32\n",
      "159/159 [==============================] - 27s 172ms/step - loss: 2.0460 - accuracy: 0.4153 - val_loss: 1.4383 - val_accuracy: 0.5836\n",
      "WARNING:tensorflow:Learning rate reduction is conditioned on metric `val_acc` which is not available. Available metrics are: loss,accuracy,val_loss,val_accuracy,lr\n",
      "Epoch 5/32\n",
      "159/159 [==============================] - 30s 187ms/step - loss: 1.7074 - accuracy: 0.5093 - val_loss: 1.1183 - val_accuracy: 0.6540\n",
      "WARNING:tensorflow:Learning rate reduction is conditioned on metric `val_acc` which is not available. Available metrics are: loss,accuracy,val_loss,val_accuracy,lr\n",
      "Epoch 6/32\n",
      "159/159 [==============================] - 27s 171ms/step - loss: 1.4718 - accuracy: 0.5693 - val_loss: 1.1264 - val_accuracy: 0.6510\n",
      "WARNING:tensorflow:Learning rate reduction is conditioned on metric `val_acc` which is not available. Available metrics are: loss,accuracy,val_loss,val_accuracy,lr\n",
      "Epoch 7/32\n",
      "159/159 [==============================] - 28s 174ms/step - loss: 1.2599 - accuracy: 0.6278 - val_loss: 0.9469 - val_accuracy: 0.7085\n",
      "WARNING:tensorflow:Learning rate reduction is conditioned on metric `val_acc` which is not available. Available metrics are: loss,accuracy,val_loss,val_accuracy,lr\n",
      "Epoch 8/32\n",
      "159/159 [==============================] - 26s 165ms/step - loss: 1.1318 - accuracy: 0.6473 - val_loss: 0.7091 - val_accuracy: 0.7801\n",
      "WARNING:tensorflow:Learning rate reduction is conditioned on metric `val_acc` which is not available. Available metrics are: loss,accuracy,val_loss,val_accuracy,lr\n",
      "Epoch 9/32\n",
      "159/159 [==============================] - 25s 157ms/step - loss: 1.0351 - accuracy: 0.6827 - val_loss: 0.8115 - val_accuracy: 0.7578\n",
      "WARNING:tensorflow:Learning rate reduction is conditioned on metric `val_acc` which is not available. Available metrics are: loss,accuracy,val_loss,val_accuracy,lr\n",
      "Epoch 10/32\n",
      "159/159 [==============================] - 26s 162ms/step - loss: 0.9234 - accuracy: 0.7120 - val_loss: 0.5477 - val_accuracy: 0.8340\n",
      "WARNING:tensorflow:Learning rate reduction is conditioned on metric `val_acc` which is not available. Available metrics are: loss,accuracy,val_loss,val_accuracy,lr\n",
      "Epoch 11/32\n",
      "159/159 [==============================] - 25s 159ms/step - loss: 0.8387 - accuracy: 0.7403 - val_loss: 0.5841 - val_accuracy: 0.8006\n",
      "WARNING:tensorflow:Learning rate reduction is conditioned on metric `val_acc` which is not available. Available metrics are: loss,accuracy,val_loss,val_accuracy,lr\n",
      "Epoch 12/32\n",
      "159/159 [==============================] - 25s 154ms/step - loss: 0.7972 - accuracy: 0.7427 - val_loss: 0.4802 - val_accuracy: 0.8405\n",
      "WARNING:tensorflow:Learning rate reduction is conditioned on metric `val_acc` which is not available. Available metrics are: loss,accuracy,val_loss,val_accuracy,lr\n",
      "Epoch 13/32\n",
      "159/159 [==============================] - 25s 155ms/step - loss: 0.7462 - accuracy: 0.7588 - val_loss: 0.4346 - val_accuracy: 0.8510\n",
      "WARNING:tensorflow:Learning rate reduction is conditioned on metric `val_acc` which is not available. Available metrics are: loss,accuracy,val_loss,val_accuracy,lr\n",
      "Epoch 14/32\n",
      "159/159 [==============================] - 25s 159ms/step - loss: 0.6993 - accuracy: 0.7753 - val_loss: 0.4522 - val_accuracy: 0.8540\n",
      "WARNING:tensorflow:Learning rate reduction is conditioned on metric `val_acc` which is not available. Available metrics are: loss,accuracy,val_loss,val_accuracy,lr\n",
      "Epoch 15/32\n",
      "159/159 [==============================] - 26s 162ms/step - loss: 0.6619 - accuracy: 0.7958 - val_loss: 0.3690 - val_accuracy: 0.8745\n",
      "WARNING:tensorflow:Learning rate reduction is conditioned on metric `val_acc` which is not available. Available metrics are: loss,accuracy,val_loss,val_accuracy,lr\n",
      "Epoch 16/32\n",
      "159/159 [==============================] - 26s 160ms/step - loss: 0.6568 - accuracy: 0.7905 - val_loss: 0.3713 - val_accuracy: 0.8669\n",
      "WARNING:tensorflow:Learning rate reduction is conditioned on metric `val_acc` which is not available. Available metrics are: loss,accuracy,val_loss,val_accuracy,lr\n",
      "Epoch 17/32\n",
      "159/159 [==============================] - 23s 145ms/step - loss: 0.5938 - accuracy: 0.8052 - val_loss: 0.3327 - val_accuracy: 0.8839\n",
      "WARNING:tensorflow:Learning rate reduction is conditioned on metric `val_acc` which is not available. Available metrics are: loss,accuracy,val_loss,val_accuracy,lr\n",
      "Epoch 18/32\n",
      "159/159 [==============================] - 27s 168ms/step - loss: 0.5876 - accuracy: 0.8086 - val_loss: 0.3269 - val_accuracy: 0.8944\n",
      "WARNING:tensorflow:Learning rate reduction is conditioned on metric `val_acc` which is not available. Available metrics are: loss,accuracy,val_loss,val_accuracy,lr\n",
      "Epoch 19/32\n",
      "159/159 [==============================] - 25s 159ms/step - loss: 0.5527 - accuracy: 0.8176 - val_loss: 0.3867 - val_accuracy: 0.8698\n",
      "WARNING:tensorflow:Learning rate reduction is conditioned on metric `val_acc` which is not available. Available metrics are: loss,accuracy,val_loss,val_accuracy,lr\n",
      "Epoch 20/32\n",
      "159/159 [==============================] - 24s 151ms/step - loss: 0.5406 - accuracy: 0.8214 - val_loss: 0.2797 - val_accuracy: 0.9050\n",
      "WARNING:tensorflow:Learning rate reduction is conditioned on metric `val_acc` which is not available. Available metrics are: loss,accuracy,val_loss,val_accuracy,lr\n",
      "Epoch 21/32\n",
      "159/159 [==============================] - 24s 150ms/step - loss: 0.5149 - accuracy: 0.8387 - val_loss: 0.3121 - val_accuracy: 0.8815\n",
      "WARNING:tensorflow:Learning rate reduction is conditioned on metric `val_acc` which is not available. Available metrics are: loss,accuracy,val_loss,val_accuracy,lr\n",
      "Epoch 22/32\n",
      "159/159 [==============================] - 23s 146ms/step - loss: 0.4946 - accuracy: 0.8353 - val_loss: 0.3010 - val_accuracy: 0.8950\n",
      "WARNING:tensorflow:Learning rate reduction is conditioned on metric `val_acc` which is not available. Available metrics are: loss,accuracy,val_loss,val_accuracy,lr\n",
      "Epoch 23/32\n",
      "159/159 [==============================] - 26s 163ms/step - loss: 0.4734 - accuracy: 0.8442 - val_loss: 0.2960 - val_accuracy: 0.8985\n",
      "WARNING:tensorflow:Learning rate reduction is conditioned on metric `val_acc` which is not available. Available metrics are: loss,accuracy,val_loss,val_accuracy,lr\n",
      "Epoch 24/32\n",
      "159/159 [==============================] - 25s 156ms/step - loss: 0.4662 - accuracy: 0.8369 - val_loss: 0.2856 - val_accuracy: 0.8886\n",
      "WARNING:tensorflow:Learning rate reduction is conditioned on metric `val_acc` which is not available. Available metrics are: loss,accuracy,val_loss,val_accuracy,lr\n",
      "Epoch 25/32\n",
      "159/159 [==============================] - 24s 151ms/step - loss: 0.4556 - accuracy: 0.8487 - val_loss: 0.2480 - val_accuracy: 0.9126\n",
      "WARNING:tensorflow:Learning rate reduction is conditioned on metric `val_acc` which is not available. Available metrics are: loss,accuracy,val_loss,val_accuracy,lr\n",
      "Epoch 26/32\n",
      "159/159 [==============================] - 24s 152ms/step - loss: 0.4297 - accuracy: 0.8552 - val_loss: 0.2969 - val_accuracy: 0.8974\n",
      "WARNING:tensorflow:Learning rate reduction is conditioned on metric `val_acc` which is not available. Available metrics are: loss,accuracy,val_loss,val_accuracy,lr\n",
      "Epoch 27/32\n",
      "159/159 [==============================] - 26s 166ms/step - loss: 0.4353 - accuracy: 0.8507 - val_loss: 0.2708 - val_accuracy: 0.9062\n"
     ]
    },
    {
     "name": "stdout",
     "output_type": "stream",
     "text": [
      "WARNING:tensorflow:Learning rate reduction is conditioned on metric `val_acc` which is not available. Available metrics are: loss,accuracy,val_loss,val_accuracy,lr\n",
      "Epoch 28/32\n",
      "159/159 [==============================] - 28s 175ms/step - loss: 0.4248 - accuracy: 0.8603 - val_loss: 0.2833 - val_accuracy: 0.9021\n",
      "WARNING:tensorflow:Learning rate reduction is conditioned on metric `val_acc` which is not available. Available metrics are: loss,accuracy,val_loss,val_accuracy,lr\n",
      "Epoch 29/32\n",
      "159/159 [==============================] - 24s 148ms/step - loss: 0.4170 - accuracy: 0.8603 - val_loss: 0.2567 - val_accuracy: 0.9144\n",
      "WARNING:tensorflow:Learning rate reduction is conditioned on metric `val_acc` which is not available. Available metrics are: loss,accuracy,val_loss,val_accuracy,lr\n",
      "Epoch 30/32\n",
      "159/159 [==============================] - 24s 149ms/step - loss: 0.4075 - accuracy: 0.8627 - val_loss: 0.2618 - val_accuracy: 0.9114\n",
      "WARNING:tensorflow:Learning rate reduction is conditioned on metric `val_acc` which is not available. Available metrics are: loss,accuracy,val_loss,val_accuracy,lr\n",
      "Epoch 31/32\n",
      "159/159 [==============================] - 25s 158ms/step - loss: 0.4007 - accuracy: 0.8670 - val_loss: 0.2830 - val_accuracy: 0.9044\n",
      "WARNING:tensorflow:Learning rate reduction is conditioned on metric `val_acc` which is not available. Available metrics are: loss,accuracy,val_loss,val_accuracy,lr\n",
      "Epoch 32/32\n",
      "159/159 [==============================] - 25s 158ms/step - loss: 0.3898 - accuracy: 0.8747 - val_loss: 0.2367 - val_accuracy: 0.9132\n",
      "WARNING:tensorflow:Learning rate reduction is conditioned on metric `val_acc` which is not available. Available metrics are: loss,accuracy,val_loss,val_accuracy,lr\n"
     ]
    }
   ],
   "source": [
    "datagen.fit(x_train)\n",
    "h = model.fit(datagen.flow(x_train,y_train, batch_size=batch_size),\n",
    "                              epochs = epochs, validation_data = (x_test,y_test),\n",
    "                              verbose = 1, steps_per_epoch=x_train.shape[0]\n",
    "                              , callbacks=[learning_rate_reduction])\n"
   ]
  },
  {
   "cell_type": "code",
   "execution_count": 146,
   "metadata": {},
   "outputs": [
    {
     "data": {
      "image/png": "[encoded data removed]",
      "text/plain": [
       "<Figure size 432x288 with 1 Axes>"
      ]
     },
     "metadata": {
      "needs_background": "light"
     },
     "output_type": "display_data"
    },
    {
     "data": {
      "image/png": "[encoded data removed]",
      "text/plain": [
       "<Figure size 432x288 with 1 Axes>"
      ]
     },
     "metadata": {
      "needs_background": "light"
     },
     "output_type": "display_data"
    }
   ],
   "source": [
    "plt.plot(h.history['accuracy'])\n",
    "plt.plot(h.history['val_accuracy'])\n",
    "plt.title('Model accuracy')\n",
    "plt.ylabel('Accuracy')\n",
    "plt.xlabel('Epoch')\n",
    "plt.legend(['Train', 'Test'], loc='upper left')\n",
    "plt.show()\n",
    "\n",
    "plt.plot(h.history['loss'])\n",
    "plt.plot(h.history['val_loss'])\n",
    "plt.title('Model loss')\n",
    "plt.ylabel('Loss')\n",
    "plt.xlabel('Epoch')\n",
    "plt.legend(['Train', 'Test'], loc='upper left')\n",
    "plt.show()"
   ]
  },
  {
   "cell_type": "code",
   "execution_count": 147,
   "metadata": {},
   "outputs": [
    {
     "name": "stdout",
     "output_type": "stream",
     "text": [
      "Test loss: 0.23671230673789978\n",
      "Test accuracy: 0.9131965041160583\n"
     ]
    }
   ],
   "source": [
    "score = model.evaluate(x_test, y_test, verbose=0)\n",
    "print(\"Test loss:\", score[0])\n",
    "print(\"Test accuracy:\", score[1])"
   ]
  },
  {
   "cell_type": "markdown",
   "metadata": {},
   "source": [
    "###### It is clear from accuracy and graph that the new model give us a better result and we are happy with the accuracy."
   ]
  },
  {
   "cell_type": "markdown",
   "metadata": {},
   "source": [
    "## Result analyze"
   ]
  },
  {
   "cell_type": "code",
   "execution_count": 148,
   "metadata": {},
   "outputs": [
    {
     "data": {
      "image/png": "[encoded data removed]",
      "text/plain": [
       "<Figure size 800x800 with 2 Axes>"
      ]
     },
     "metadata": {
      "needs_background": "light"
     },
     "output_type": "display_data"
    }
   ],
   "source": [
    "from sklearn.metrics import confusion_matrix\n",
    "import itertools\n",
    "from matplotlib.pyplot import figure\n",
    "\n",
    "\n",
    "# Look at confusion matrix \n",
    "#Note, this code is taken straight from the SKLEARN website, an nice way of viewing confusion matrix.\n",
    "def plot_confusion_matrix(cm, classes,\n",
    "                          normalize=False,\n",
    "                          title='Confusion matrix',\n",
    "                          cmap=plt.cm.Blues):\n",
    "    \"\"\"\n",
    "    This function prints and plots the confusion matrix.\n",
    "    Normalization can be applied by setting `normalize=True`.\n",
    "    \"\"\"\n",
    "    figure(figsize=(10,10), dpi=80)\n",
    "    plt.imshow(cm, interpolation='nearest', cmap=cmap)\n",
    "    plt.title(title)\n",
    "    plt.colorbar()\n",
    "    tick_marks = np.arange(len(classes))\n",
    "    plt.xticks(tick_marks, classes, rotation=45)\n",
    "    plt.yticks(tick_marks, classes)\n",
    "\n",
    "    if normalize:\n",
    "        cm = cm.astype('float') / cm.sum(axis=1)[:, np.newaxis]\n",
    "\n",
    "    thresh = cm.max() / 2.\n",
    "    for i, j in itertools.product(range(cm.shape[0]), range(cm.shape[1])):\n",
    "        plt.text(j, i, cm[i, j],\n",
    "                 horizontalalignment=\"center\",\n",
    "                 color=\"white\" if cm[i, j] > thresh else \"black\")\n",
    "\n",
    "    plt.tight_layout()\n",
    "    plt.ylabel('True label')\n",
    "    plt.xlabel('Predicted label')\n",
    "\n",
    "# Predict the values from the validation dataset\n",
    "Y_pred = model.predict(x_test)\n",
    "# Convert predictions classes to one hot vectors \n",
    "Y_pred_classes = np.argmax(Y_pred, axis = 1) \n",
    "# Convert validation observations to one hot vectors\n",
    "Y_true = np.argmax(y_test, axis = 1) \n",
    "# compute the confusion matrix\n",
    "confusion_mtx = confusion_matrix(Y_true, Y_pred_classes) \n",
    "# plot the confusion matrix\n",
    "plot_confusion_matrix(confusion_mtx, classes = range(36))"
   ]
  },
  {
   "cell_type": "code",
   "execution_count": 149,
   "metadata": {},
   "outputs": [
    {
     "name": "stdout",
     "output_type": "stream",
     "text": [
      "              precision    recall  f1-score   support\n",
      "\n",
      "     Class 0       0.62      0.52      0.57        25\n",
      "     Class 1       0.52      0.88      0.66        26\n",
      "     Class 2       0.94      1.00      0.97        33\n",
      "     Class 3       1.00      0.92      0.96        26\n",
      "     Class 4       1.00      0.85      0.92        34\n",
      "     Class 5       1.00      0.71      0.83        34\n",
      "     Class 6       0.94      1.00      0.97        31\n",
      "     Class 7       0.97      1.00      0.98        28\n",
      "     Class 8       0.85      0.90      0.88        31\n",
      "     Class 9       0.95      0.68      0.79        31\n",
      "    Class 10       0.97      0.92      0.94        63\n",
      "    Class 11       0.96      0.96      0.96        55\n",
      "    Class 12       0.98      1.00      0.99        52\n",
      "    Class 13       0.98      0.96      0.97        51\n",
      "    Class 14       0.94      0.94      0.94        52\n",
      "    Class 15       0.96      0.96      0.96        56\n",
      "    Class 16       0.83      0.94      0.88        52\n",
      "    Class 17       0.98      1.00      0.99        48\n",
      "    Class 18       0.89      0.79      0.84        62\n",
      "    Class 19       0.94      0.96      0.95        53\n",
      "    Class 20       0.94      0.98      0.96        46\n",
      "    Class 21       0.95      0.69      0.80        61\n",
      "    Class 22       0.89      1.00      0.94        51\n",
      "    Class 23       0.88      0.96      0.92        47\n",
      "    Class 24       0.75      0.85      0.80        54\n",
      "    Class 25       0.98      0.97      0.97        59\n",
      "    Class 26       0.85      0.90      0.88        59\n",
      "    Class 27       0.95      0.87      0.91        63\n",
      "    Class 28       0.78      0.93      0.85        54\n",
      "    Class 29       0.98      0.93      0.96        46\n",
      "    Class 30       0.98      0.92      0.95        49\n",
      "    Class 31       0.94      0.98      0.96        50\n",
      "    Class 32       0.98      0.95      0.96        58\n",
      "    Class 33       0.94      0.92      0.93        66\n",
      "    Class 34       0.91      1.00      0.95        53\n",
      "    Class 35       0.93      0.89      0.91        46\n",
      "\n",
      "    accuracy                           0.91      1705\n",
      "   macro avg       0.91      0.91      0.91      1705\n",
      "weighted avg       0.92      0.91      0.91      1705\n",
      "\n"
     ]
    }
   ],
   "source": [
    "from sklearn.metrics import classification_report\n",
    "\n",
    "\n",
    "Y_pred = model.predict(x_test)\n",
    "Y_pred_classes = np.argmax(Y_pred, axis = 1)\n",
    "Y_true_classes = np.argmax(y_test, axis = 1)\n",
    "print(classification_report(Y_true_classes, Y_pred_classes, \n",
    "                            target_names=[\"Class {}\".format(i) for i in range(num_classes)]))"
   ]
  },
  {
   "cell_type": "code",
   "execution_count": 150,
   "metadata": {},
   "outputs": [
    {
     "data": {
      "image/png": "[encoded data removed]",
      "text/plain": [
       "<Figure size 432x288 with 9 Axes>"
      ]
     },
     "metadata": {
      "needs_background": "light"
     },
     "output_type": "display_data"
    }
   ],
   "source": [
    "# Errors are difference between predicted labels and true labels\n",
    "errors = (Y_pred_classes - Y_true != 0)\n",
    "\n",
    "Y_pred_classes_errors = Y_pred_classes[errors]\n",
    "Y_pred_errors = Y_pred[errors]\n",
    "Y_true_errors = Y_true[errors]\n",
    "X_val_errors = x_test[errors]\n",
    "\n",
    "# Probabilities of the wrong predicted numbers\n",
    "Y_pred_errors_prob = np.max(Y_pred_errors,axis = 1)\n",
    "\n",
    "# Predicted probabilities of the true values in the error set\n",
    "true_prob_errors = np.diagonal(np.take(Y_pred_errors, Y_true_errors, axis=1))\n",
    "\n",
    "# Difference between the probability of the predicted label and the true label\n",
    "delta_pred_true_errors = Y_pred_errors_prob - true_prob_errors\n",
    "\n",
    "# Sorted list of the delta prob errors\n",
    "sorted_dela_errors = np.argsort(delta_pred_true_errors)\n",
    "\n",
    "# Top 9 errors \n",
    "most_important_errors = sorted_dela_errors[-9:]\n",
    "\n",
    "fig, ax = plt.subplots(3,3,sharex=True,sharey=True)\n",
    "\n",
    "n = 0\n",
    "for row in range(3):\n",
    "        for col in range(3):\n",
    "            error = most_important_errors[n]\n",
    "            ax[row,col].imshow((X_val_errors[error]).reshape((32,32)))\n",
    "            ax[row,col].set_title(\"Predicted label :{}\\nTrue label :{}\".format(key_dict[Y_pred_classes_errors[error]],key_dict[Y_true_errors[error]]))\n",
    "            n += 1\n"
   ]
  },
  {
   "cell_type": "markdown",
   "metadata": {},
   "source": [
    "###### We did a confusion matrix and the classification report that tells us how many are correct and what is the wrong case are. It also gives us like which character is going good and which are need to imporve.  And we find out the top 9 images that is wrong the most. By the meaning of wrong the most is the that the model has a high probility that this is a wrong character. It is clear that some image have ambiguity that even I could not figure out what it is. This is some thing we need to work for the future. "
   ]
  },
  {
   "cell_type": "markdown",
   "metadata": {},
   "source": [
    "## References"
   ]
  },
  {
   "cell_type": "markdown",
   "metadata": {},
   "source": [
    "- https://www.kaggle.com/dhruvildave/english-handwritten-characters-dataset\n",
    "- https://www.kaggle.com/adityaecdrid/mnist-with-keras-for-beginners-99457\n",
    "- https://www.tensorflow.org/datasets/keras_example\n",
    "- https://www.analyticsvidhya.com/blog/2021/03/image-augmentation-techniques-for-training-deep-learning-models/\n",
    "- https://scikit-learn.org/stable/modules/generated/sklearn.metrics.plot_confusion_matrix.html"
   ]
  },
  {
   "cell_type": "code",
   "execution_count": null,
   "metadata": {},
   "outputs": [],
   "source": []
  }
 ],
 "metadata": {
  "kernelspec": {
   "display_name": "Python 3",
   "language": "python",
   "name": "python3"
  },
  "language_info": {
   "codemirror_mode": {
    "name": "ipython",
    "version": 3
   },
   "file_extension": ".py",
   "mimetype": "text/x-python",
   "name": "python",
   "nbconvert_exporter": "python",
   "pygments_lexer": "ipython3",
   "version": "3.7.4"
  }
 },
 "nbformat": 4,
 "nbformat_minor": 2
}
